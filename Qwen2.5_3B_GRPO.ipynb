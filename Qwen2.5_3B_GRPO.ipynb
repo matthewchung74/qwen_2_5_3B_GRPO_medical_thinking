{
  "cells": [
    {
      "cell_type": "markdown",
      "metadata": {
        "id": "9LEXGOV66cwk"
      },
      "source": [
        "To run this, press \"*Runtime*\" and press \"*Run all*\" on a **free** Tesla T4 Google Colab instance!\n",
        "<div class=\"align-center\">\n",
        "<a href=\"https://unsloth.ai/\"><img src=\"https://github.com/unslothai/unsloth/raw/main/images/unsloth%20new%20logo.png\" width=\"115\"></a>\n",
        "<a href=\"https://discord.gg/unsloth\"><img src=\"https://github.com/unslothai/unsloth/raw/main/images/Discord button.png\" width=\"145\"></a>\n",
        "<a href=\"https://docs.unsloth.ai/\"><img src=\"https://github.com/unslothai/unsloth/blob/main/images/documentation%20green%20button.png?raw=true\" width=\"125\"></a></a> Join Discord if you need help + ⭐ <i>Star us on <a href=\"https://github.com/unslothai/unsloth\">Github</a> </i> ⭐\n",
        "</div>\n",
        "\n",
        "To install Unsloth on your own computer, follow the installation instructions on our Github page [here](https://docs.unsloth.ai/get-started/installing-+-updating).\n",
        "\n",
        "You will learn how to do [data prep](#Data), how to [train](#Train), how to [run the model](#Inference), & [how to save it](#Save)\n",
        "\n",
        "Visit our docs for all our [model uploads](https://docs.unsloth.ai/get-started/all-our-models) and [notebooks](https://docs.unsloth.ai/get-started/unsloth-notebooks).\n"
      ]
    },
    {
      "cell_type": "markdown",
      "metadata": {
        "id": "ffeahTj06cwm"
      },
      "source": [
        "### News"
      ]
    },
    {
      "cell_type": "markdown",
      "metadata": {
        "id": "mZy2E4k96cwm"
      },
      "source": [
        "**Read our [blog post](https://unsloth.ai/blog/r1-reasoning) for guidance to train reasoning model.** GRPO notebook is inspired by [@shxf0072](https://x.com/shxf0072/status/1886085377146180091), [@Teknium1](https://x.com/Teknium1/status/1885077369142337550), [@willccbb](https://gist.github.com/willccbb/4676755236bb08cab5f4e54a0475d6fb)\n",
        "\n",
        "Visit our docs for all our [model uploads](https://docs.unsloth.ai/get-started/all-our-models) and [notebooks](https://docs.unsloth.ai/get-started/unsloth-notebooks).\n"
      ]
    },
    {
      "cell_type": "markdown",
      "metadata": {
        "id": "X_re-U8w6cwm"
      },
      "source": [
        "### Installation"
      ]
    },
    {
      "cell_type": "code",
      "execution_count": 1,
      "metadata": {
        "colab": {
          "background_save": true
        },
        "id": "Ovi4xY3v6cwn"
      },
      "outputs": [],
      "source": [
        "%%capture\n",
        "# Skip restarting message in Colab\n",
        "import sys; modules = list(sys.modules.keys())\n",
        "for x in modules: sys.modules.pop(x) if \"PIL\" in x or \"google\" in x else None\n",
        "\n",
        "!pip install unsloth vllm\n",
        "!pip install --upgrade pillow\n",
        "!pip install transformers==4.31.0\n",
        "!pip install rouge_score bert_score datasets evaluate scikit-learn\n",
        "# If you are running this notebook on local, you need to install `diffusers` too\n",
        "!pip install diffusers\n",
        "# Temporarily install a specific TRL nightly version\n",
        "!pip install git+https://github.com/huggingface/trl.git@e95f9fb74a3c3647b86f251b7e230ec51c64b72b"
      ]
    },
    {
      "cell_type": "code",
      "execution_count": null,
      "metadata": {},
      "outputs": [
        {
          "data": {
            "text/plain": [
              "True"
            ]
          },
          "execution_count": 2,
          "metadata": {},
          "output_type": "execute_result"
        }
      ],
      "source": [
        "from dotenv import load_dotenv\n",
        "import os\n",
        "\n",
        "load_dotenv()"
      ]
    },
    {
      "cell_type": "markdown",
      "metadata": {
        "id": "_96wJTSB6cwn"
      },
      "source": [
        "### Unsloth"
      ]
    },
    {
      "cell_type": "markdown",
      "metadata": {
        "id": "P1zyu9Ug2XEt"
      },
      "source": [
        "Use `PatchFastRL` before all functions to patch GRPO and other RL algorithms!"
      ]
    },
    {
      "cell_type": "code",
      "execution_count": null,
      "metadata": {
        "colab": {
          "background_save": true
        },
        "id": "59DIs5BMcvjN"
      },
      "outputs": [
        {
          "name": "stdout",
          "output_type": "stream",
          "text": [
            "🦥 Unsloth: Will patch your computer to enable 2x faster free finetuning.\n"
          ]
        },
        {
          "name": "stderr",
          "output_type": "stream",
          "text": [
            "/workspace/venv/lib/python3.11/site-packages/tqdm/auto.py:21: TqdmWarning: IProgress not found. Please update jupyter and ipywidgets. See https://ipywidgets.readthedocs.io/en/stable/user_install.html\n",
            "  from .autonotebook import tqdm as notebook_tqdm\n"
          ]
        },
        {
          "name": "stdout",
          "output_type": "stream",
          "text": [
            "🦥 Unsloth Zoo will now patch everything to make training faster!\n",
            "INFO 02-13 21:34:55 __init__.py:190] Automatically detected platform cuda.\n"
          ]
        },
        {
          "name": "stderr",
          "output_type": "stream",
          "text": [
            "2025-02-13 21:34:55,597\tINFO util.py:154 -- Missing packages: ['ipywidgets']. Run `pip install -U ipywidgets`, then restart the notebook server for rich notebook output.\n"
          ]
        }
      ],
      "source": [
        "import os\n",
        "from unsloth import FastLanguageModel, PatchFastRL\n",
        "\n",
        "# Set temporary directory for unsloth\n",
        "os.environ[\"UNSLOTH_TEMP_DIR\"] = \"/tmp/unsloth\"\n",
        "\n",
        "PatchFastRL(\"GRPO\", FastLanguageModel)"
      ]
    },
    {
      "cell_type": "markdown",
      "metadata": {},
      "source": [
        "### Dataset\n",
        "\n",
        "We will use the Medical O1 Reasoninng SFT found here on Hugging Face. From the authors: This dataset is used to fine-tune HuatuoGPT-o1, a medical LLM designed for advanced medical reasoning. This dataset is constructed using GPT-4o, which searches for solutions to verifiable medical problems and validates them through a medical verifier."
      ]
    },
    {
      "cell_type": "code",
      "execution_count": null,
      "metadata": {
        "colab": {
          "background_save": true
        },
        "id": "4RqG8WbA_LIJ"
      },
      "outputs": [
        {
          "name": "stderr",
          "output_type": "stream",
          "text": [
            "Map: 100%|██████████| 25117/25117 [00:01<00:00, 24626.03 examples/s]\n",
            "Map: 100%|██████████| 127/127 [00:00<00:00, 22961.19 examples/s]\n",
            "Map: 100%|██████████| 127/127 [00:00<00:00, 23791.89 examples/s]\n"
          ]
        },
        {
          "data": {
            "text/plain": [
              "(Dataset({\n",
              "     features: ['Question', 'Complex_CoT', 'Response', '__index_level_0__', 'prompt', 'answer'],\n",
              "     num_rows: 25117\n",
              " }),\n",
              " Dataset({\n",
              "     features: ['Question', 'Complex_CoT', 'Response', '__index_level_0__', 'prompt', 'answer'],\n",
              "     num_rows: 127\n",
              " }),\n",
              " Dataset({\n",
              "     features: ['Question', 'Complex_CoT', 'Response', '__index_level_0__', 'prompt', 'answer'],\n",
              "     num_rows: 127\n",
              " }))"
            ]
          },
          "execution_count": 4,
          "metadata": {},
          "output_type": "execute_result"
        }
      ],
      "source": [
        "from datasets import load_dataset, Dataset\n",
        "from sklearn.model_selection import train_test_split\n",
        "\n",
        "SYSTEM_PROMPT = \"\"\"\n",
        "Respond in the following format:\n",
        "<reasoning>\n",
        "...\n",
        "</reasoning>\n",
        "<answer>\n",
        "...\n",
        "</answer>\n",
        "\"\"\"\n",
        "\n",
        "def get_medical_questions(split=\"train\") -> Dataset:\n",
        "    # Load the raw dataset from the hub\n",
        "    data = load_dataset('FreedomIntelligence/medical-o1-reasoning-SFT', 'en')[split]\n",
        "    # Convert to a pandas DataFrame for easier splitting\n",
        "    df = data.to_pandas()\n",
        "\n",
        "    if split == \"train\":\n",
        "        # Split the data into 70% train and 30% temporary data\n",
        "        train_df, temp_df = train_test_split(df, test_size=0.01, random_state=42)\n",
        "        # Split the temporary data equally into eval and test (each 2.5% of the total)\n",
        "        eval_df, test_df = train_test_split(temp_df, test_size=0.5, random_state=42)\n",
        "\n",
        "        # Convert back to Hugging Face Datasets\n",
        "        train_dataset = Dataset.from_pandas(train_df)\n",
        "        eval_dataset = Dataset.from_pandas(eval_df)\n",
        "        test_dataset = Dataset.from_pandas(test_df)\n",
        "\n",
        "        # Define a mapping function to create the prompt and answer fields\n",
        "        def map_fn(x):\n",
        "            return {\n",
        "                'prompt': [\n",
        "                    {'role': 'system', 'content': SYSTEM_PROMPT},\n",
        "                    {'role': 'user', 'content': x['Question']}\n",
        "                ],\n",
        "                'answer': x['Response']  # The reference answer\n",
        "            }\n",
        "\n",
        "        # Apply the mapping function to each split\n",
        "        train_dataset = train_dataset.map(map_fn)\n",
        "        eval_dataset = eval_dataset.map(map_fn)\n",
        "        test_dataset = test_dataset.map(map_fn)\n",
        "\n",
        "        return train_dataset, eval_dataset, test_dataset  # Return all three splits\n",
        "    else:\n",
        "        # For non-\"train\" splits, just map over the data (if needed)\n",
        "        data = data.map(lambda x: {\n",
        "            'prompt': [\n",
        "                {'role': 'system', 'content': SYSTEM_PROMPT},\n",
        "                {'role': 'user', 'content': x['Question']}\n",
        "            ],\n",
        "            'answer': x['Response']\n",
        "        })\n",
        "        return data\n",
        "\n",
        "# To get the three splits, call:\n",
        "train_dataset, eval_dataset, test_dataset = get_medical_questions(split=\"train\")\n",
        "train_dataset, eval_dataset, test_dataset"
      ]
    },
    {
      "cell_type": "markdown",
      "metadata": {},
      "source": [
        "Load up `Qwen 2.5 3B Instruct`, and set parameters"
      ]
    },
    {
      "cell_type": "code",
      "execution_count": 5,
      "metadata": {
        "colab": {
          "base_uri": "https://localhost:8080/",
          "height": 639,
          "referenced_widgets": [
            "6278b93361fc47b3aac04b80e80d9449",
            "7d1316f9699f45d0979ff44e39d259d2",
            "da1f301823a54449bf98555acb1f0dad",
            "81af3f5fc73641b8a42a9575a75e8f97",
            "9f660a0639a94305a6bf9ae2b72fd6fc",
            "86b4c85c6339499db56c88f6841e76ec",
            "b67e6e2608d24b249321fd25cac9a7d6",
            "f17506105b1e4bf4a98bcac58fce7f2a",
            "f90d7886c67a470895721f117ef99d28",
            "87e72a336913497aaa7fbe4366572ed0",
            "f9485957a3484a5bb809ba8f54788e0c",
            "cdc69a73b42b4918a2bd741147bafae0",
            "978a16a9d3694478971acba3f30bb6df",
            "cc80596be8654d49b31a8a9481bd6845",
            "77e2743957d641ffaea4dd43718cde5a",
            "f96bc9801e2943f5a4c53eb51358e0bd",
            "2c7e0b5aabeb4412b33a1accaa6f9399",
            "b5729576e678474cb0127191c1f9c126",
            "122fef8cb5fc4514ad2b7a37f8ea6b6c",
            "71a30fdfb73f4736a587faa8f0e762c5",
            "baceb4f769594907970ce32ed4333ba2",
            "a3b01c93ec324c679bbd605388fc096f"
          ]
        },
        "id": "DkIvEkIIkEyB",
        "outputId": "034318a4-b7b6-4d57-9aab-8a0275cae91d"
      },
      "outputs": [
        {
          "name": "stdout",
          "output_type": "stream",
          "text": [
            "==((====))==  Unsloth 2025.2.5: Fast Qwen2 patching. Transformers: 4.48.3.\n",
            "   \\\\   /|    GPU: NVIDIA GeForce RTX 4090. Max memory: 23.641 GB. Platform: Linux.\n",
            "O^O/ \\_/ \\    Torch: 2.5.1+cu124. CUDA: 8.9. CUDA Toolkit: 12.4. Triton: 3.1.0\n",
            "\\        /    Bfloat16 = TRUE. FA [Xformers = 0.0.28.post3. FA2 = False]\n",
            " \"-____-\"     Free Apache license: http://github.com/unslothai/unsloth\n",
            "Unsloth: Fast downloading is enabled - ignore downloading bars which are red colored!\n",
            "Unsloth: vLLM loading unsloth/qwen2.5-3b-instruct-unsloth-bnb-4bit with actual GPU utilization = 49.19%\n",
            "Unsloth: Your GPU has CUDA compute capability 8.9 with VRAM = 23.64 GB.\n",
            "Unsloth: Using conservativeness = 1.0. Chunked prefill tokens = 1024. Num Sequences = 224.\n",
            "Unsloth: vLLM's KV Cache can use up to 9.21 GB. Also swap space = 6 GB.\n",
            "INFO 02-13 21:35:11 config.py:542] This model supports multiple tasks: {'generate', 'score', 'embed', 'reward', 'classify'}. Defaulting to 'generate'.\n",
            "Unsloth: vLLM Bitsandbytes config using kwargs = {'load_in_8bit': False, 'load_in_4bit': True, 'bnb_4bit_compute_dtype': 'bfloat16', 'bnb_4bit_quant_storage': 'uint8', 'bnb_4bit_quant_type': 'nf4', 'bnb_4bit_use_double_quant': True, 'llm_int8_enable_fp32_cpu_offload': False, 'llm_int8_has_fp16_weight': False, 'llm_int8_skip_modules': ['lm_head', 'multi_modal_projector', 'merger', 'modality_projection', 'model.layers.2.mlp', 'model.layers.3.mlp', 'model.layers.30.mlp'], 'llm_int8_threshold': 6.0}\n",
            "INFO 02-13 21:35:11 llm_engine.py:234] Initializing a V0 LLM engine (v0.7.2) with config: model='unsloth/qwen2.5-3b-instruct-unsloth-bnb-4bit', speculative_config=None, tokenizer='unsloth/qwen2.5-3b-instruct-unsloth-bnb-4bit', skip_tokenizer_init=False, tokenizer_mode=auto, revision=None, override_neuron_config=None, tokenizer_revision=None, trust_remote_code=False, dtype=torch.bfloat16, max_seq_len=1024, download_dir=None, load_format=LoadFormat.BITSANDBYTES, tensor_parallel_size=1, pipeline_parallel_size=1, disable_custom_all_reduce=False, quantization=bitsandbytes, enforce_eager=False, kv_cache_dtype=auto,  device_config=cuda, decoding_config=DecodingConfig(guided_decoding_backend='xgrammar'), observability_config=ObservabilityConfig(otlp_traces_endpoint=None, collect_model_forward_time=False, collect_model_execute_time=False), seed=0, served_model_name=unsloth/qwen2.5-3b-instruct-unsloth-bnb-4bit, num_scheduler_steps=1, multi_step_stream_outputs=True, enable_prefix_caching=True, chunked_prefill_enabled=False, use_async_output_proc=True, disable_mm_preprocessor_cache=False, mm_processor_kwargs=None, pooler_config=None, compilation_config={\"level\":0,\"splitting_ops\":[],\"compile_sizes\":[],\"cudagraph_capture_sizes\":[224,216,208,200,192,184,176,168,160,152,144,136,128,120,112,104,96,88,80,72,64,56,48,40,32,24,16,8,4,2,1],\"max_capture_size\":224}, use_cached_outputs=False, \n",
            "INFO 02-13 21:35:12 cuda.py:230] Using Flash Attention backend.\n",
            "INFO 02-13 21:35:12 model_runner.py:1110] Starting to load model unsloth/qwen2.5-3b-instruct-unsloth-bnb-4bit...\n",
            "INFO 02-13 21:35:13 loader.py:1102] Loading weights with BitsAndBytes quantization.  May take a while ...\n"
          ]
        },
        {
          "name": "stderr",
          "output_type": "stream",
          "text": [
            "[W213 21:35:12.137845061 CUDAAllocatorConfig.h:28] Warning: expandable_segments not supported on this platform (function operator())\n"
          ]
        },
        {
          "name": "stdout",
          "output_type": "stream",
          "text": [
            "INFO 02-13 21:35:13 weight_utils.py:252] Using model weights format ['*.safetensors']\n"
          ]
        },
        {
          "name": "stderr",
          "output_type": "stream",
          "text": [
            "Loading safetensors checkpoint shards:   0% Completed | 0/1 [00:00<?, ?it/s]\n",
            "Loading safetensors checkpoint shards: 100% Completed | 1/1 [00:00<00:00,  2.19it/s]\n",
            "Loading safetensors checkpoint shards: 100% Completed | 1/1 [00:00<00:00,  2.18it/s]\n",
            "\n",
            "Loading safetensors checkpoint shards:   0% Completed | 0/1 [00:00<?, ?it/s]\n",
            "Loading safetensors checkpoint shards: 100% Completed | 1/1 [00:00<00:00,  2.02it/s]\n",
            "Loading safetensors checkpoint shards: 100% Completed | 1/1 [00:00<00:00,  2.02it/s]\n",
            "\n"
          ]
        },
        {
          "name": "stdout",
          "output_type": "stream",
          "text": [
            "INFO 02-13 21:35:15 model_runner.py:1115] Loading model weights took 2.2160 GB\n",
            "INFO 02-13 21:35:15 punica_selector.py:18] Using PunicaWrapperGPU.\n",
            "INFO 02-13 21:35:16 worker.py:267] Memory profiling takes 0.87 seconds\n",
            "INFO 02-13 21:35:16 worker.py:267] the current vLLM instance can use total_gpu_memory (23.64GiB) x gpu_memory_utilization (0.49) = 11.63GiB\n",
            "INFO 02-13 21:35:16 worker.py:267] model weights take 2.22GiB; non_torch_memory takes 0.08GiB; PyTorch activation peak memory takes 1.23GiB; the rest of the memory reserved for KV Cache is 8.11GiB.\n",
            "INFO 02-13 21:35:16 executor_base.py:110] # CUDA blocks: 14763, # CPU blocks: 10922\n",
            "INFO 02-13 21:35:16 executor_base.py:115] Maximum concurrency for 1024 tokens per request: 230.67x\n",
            "INFO 02-13 21:35:21 model_runner.py:1434] Capturing cudagraphs for decoding. This may lead to unexpected consequences if the model is not static. To run the model in eager mode, set 'enforce_eager=True' or use '--enforce-eager' in the CLI. If out-of-memory error occurs during cudagraph capture, consider decreasing `gpu_memory_utilization` or switching to eager mode. You can also reduce the `max_num_seqs` as needed to decrease memory usage.\n"
          ]
        },
        {
          "name": "stderr",
          "output_type": "stream",
          "text": [
            "Capturing CUDA graph shapes: 100%|██████████| 31/31 [00:19<00:00,  1.61it/s]"
          ]
        },
        {
          "name": "stdout",
          "output_type": "stream",
          "text": [
            "INFO 02-13 21:35:40 model_runner.py:1562] Graph capturing finished in 19 secs, took 0.73 GiB\n",
            "INFO 02-13 21:35:40 llm_engine.py:431] init engine (profile, create kv cache, warmup model) took 25.36 seconds\n"
          ]
        },
        {
          "name": "stderr",
          "output_type": "stream",
          "text": [
            "\n",
            "sh: 0: getcwd() failed: No such file or directory\n",
            "Unsloth 2025.2.5 patched 36 layers with 36 QKV layers, 36 O layers and 36 MLP layers.\n"
          ]
        }
      ],
      "source": [
        "import os\n",
        "from unsloth import FastLanguageModel, is_bfloat16_supported\n",
        "import torch\n",
        "\n",
        "\n",
        "max_seq_length = 1024 # Can increase for longer reasoning traces\n",
        "lora_rank = 64 # Larger rank = smarter, but slower\n",
        "\n",
        "base_model_name = \"Qwen/Qwen2.5-3B-Instruct\"\n",
        "\n",
        "model, tokenizer = FastLanguageModel.from_pretrained(\n",
        "    model_name = base_model_name,\n",
        "    max_seq_length = max_seq_length,\n",
        "    load_in_4bit = True, # False for LoRA 16bit\n",
        "    fast_inference = True, # Enable vLLM fast inference\n",
        "    max_lora_rank = lora_rank,\n",
        "    gpu_memory_utilization = 0.5, # Reduce if out of memory\n",
        ")\n",
        "\n",
        "model = FastLanguageModel.get_peft_model(\n",
        "    model,\n",
        "    r = lora_rank, # Choose any number > 0 ! Suggested 8, 16, 32, 64, 128\n",
        "    target_modules = [\n",
        "        \"q_proj\", \"k_proj\", \"v_proj\", \"o_proj\",\n",
        "        \"gate_proj\", \"up_proj\", \"down_proj\",\n",
        "    ], # Remove QKVO if out of memory\n",
        "    lora_alpha = lora_rank,\n",
        "    use_gradient_checkpointing = \"unsloth\", # Enable long context finetuning\n",
        "    random_state = 3407,\n",
        ")"
      ]
    },
    {
      "cell_type": "markdown",
      "metadata": {
        "id": "7KGgPgk_5S8r"
      },
      "source": [
        "### Reward Functions\n",
        "<a name=\"Data\"></a>\n",
        "\n",
        "All reward functions were generated by deep seek."
      ]
    },
    {
      "cell_type": "code",
      "execution_count": 6,
      "metadata": {
        "colab": {
          "background_save": true
        },
        "id": "p01y0rWPpvLS"
      },
      "outputs": [],
      "source": [
        "import re\n",
        "\n",
        "# ------ Correctness Reward (Fixed Parameter Order) ------\n",
        "def correctness_reward_func(prompts, completions, answer, **kwargs) -> list[float]:\n",
        "    \"\"\"\n",
        "    Evaluates the correctness of model-generated responses (fixed syntax).\n",
        "    \"\"\"\n",
        "    rewards = []\n",
        "    for completion, ans in zip(completions, answer):\n",
        "        try:\n",
        "            response = completion[0]['content'].strip()\n",
        "            reward = 1.0 if response == ans.strip() else 0.0\n",
        "        except (KeyError, IndexError):\n",
        "            reward = 0.0  # Penalize malformed responses\n",
        "        rewards.append(reward)\n",
        "\n",
        "        # Debug print (optional)\n",
        "        # print(f\"Correctness Check | Response: {response[:20]}... | Correct: {ans} | Reward: {reward}\")\n",
        "\n",
        "    return rewards\n",
        "\n",
        "# ------ Enhanced Perplexity Reward (Optimized) ------\n",
        "import torch\n",
        "from transformers import GPT2LMHeadModel, GPT2Tokenizer\n",
        "\n",
        "# Initialize perplexity model once (add device management)\n",
        "DEVICE = \"cuda\" if torch.cuda.is_available() else \"cpu\"\n",
        "perplexity_model = GPT2LMHeadModel.from_pretrained('gpt2-medium').to(DEVICE)\n",
        "perplexity_tokenizer = GPT2Tokenizer.from_pretrained('gpt2-medium')\n",
        "\n",
        "def calculate_perplexity(texts: list[str]) -> list[float]:\n",
        "    \"\"\"Batch perplexity calculation with error handling\"\"\"\n",
        "    perplexities = []\n",
        "    for text in texts:\n",
        "        if not text.strip():  # Handle empty responses\n",
        "            return 1000.0\n",
        "\n",
        "        try:\n",
        "            encodings = perplexity_tokenizer(text, return_tensors='pt').to(DEVICE)\n",
        "            with torch.no_grad():\n",
        "                outputs = perplexity_model(**encodings, labels=encodings.input_ids)\n",
        "            perplexities.append(torch.exp(outputs.loss).item())\n",
        "        except:\n",
        "            perplexities.append(1000.0)  # High penalty for errors\n",
        "\n",
        "    return perplexities\n",
        "\n",
        "def coherence_fluency_reward_func(completions, **kwargs) -> list[float]:\n",
        "    \"\"\"Optimized fluency reward with batch processing\"\"\"\n",
        "    responses = [c[0]['content'].strip() for c in completions]\n",
        "    perplexities = calculate_perplexity(responses)\n",
        "    return [1 / (p + 1e-6) for p in perplexities]  # Stable calculation\n",
        "\n",
        "\n",
        "def combined_reward_func(prompts, completions, answer, **kwargs) -> list[float]:\n",
        "    correctness = correctness_reward_func(prompts, completions, answer)\n",
        "    fluency = coherence_fluency_reward_func(completions)\n",
        "\n",
        "    return [\n",
        "        0.7 * c +  # Higher weight for correctness\n",
        "        0.3 * f    # Lower weight for fluency\n",
        "        for c, f in zip(correctness, fluency)\n",
        "    ]"
      ]
    },
    {
      "cell_type": "markdown",
      "metadata": {
        "id": "Ux6iqP7z5YOo"
      },
      "source": [
        "<a name=\"Train\"></a>\n",
        "### Train the model\n",
        "\n",
        "Now set up GRPO Trainer and all configurations!"
      ]
    },
    {
      "cell_type": "code",
      "execution_count": 7,
      "metadata": {
        "colab": {
          "background_save": true
        },
        "id": "ptqkXK2D4d6p"
      },
      "outputs": [
        {
          "name": "stderr",
          "output_type": "stream",
          "text": [
            "torch.distributed process group is initialized, but parallel_mode != ParallelMode.DISTRIBUTED. In order to use Torch DDP, launch your script with `python -m torch.distributed.launch\n"
          ]
        }
      ],
      "source": [
        "from trl import GRPOConfig, GRPOTrainer\n",
        "import os\n",
        "\n",
        "# Configure to save checkpoints to HuggingFace Hub\n",
        "checkpoint_repo = \"matthewchung74/Qwen2.5_3B-GRPO-medical-reasoning-checkpoints\"\n",
        "\n",
        "# Set HuggingFace cache directory to avoid cluttering project directory\n",
        "os.environ['HF_HOME'] = os.path.join(os.path.expanduser('~'), '.cache/huggingface')\n",
        "\n",
        "# Define batch parameters\n",
        "per_device_train_batch_size = 2\n",
        "gradient_accumulation_steps = 4\n",
        "\n",
        "# Calculate total number of steps to process each sample once\n",
        "total_steps = len(train_dataset) // (per_device_train_batch_size * gradient_accumulation_steps)\n",
        "total_steps = 20\n",
        "num_checkpoints = 10\n",
        "num_checkpoints = 2\n",
        "\n",
        "training_args = GRPOConfig(\n",
        "    use_vllm = True, # use vLLM for fast inference!\n",
        "    learning_rate = 5e-6,\n",
        "    adam_beta1 = 0.9,\n",
        "    adam_beta2 = 0.99,\n",
        "    weight_decay = 0.1,\n",
        "    warmup_ratio = 0.1,\n",
        "    lr_scheduler_type = \"cosine\",\n",
        "    optim = \"paged_adamw_8bit\",\n",
        "    logging_steps = 1,\n",
        "    bf16 = is_bfloat16_supported(),\n",
        "    fp16 = not is_bfloat16_supported(),\n",
        "    per_device_train_batch_size = per_device_train_batch_size,\n",
        "    gradient_accumulation_steps = gradient_accumulation_steps, # Increase to 4 for smoother training\n",
        "    num_generations = 6, # Decrease if out of memory\n",
        "    max_prompt_length = 256,\n",
        "    max_completion_length = 300,\n",
        "    max_steps = total_steps, # Train for exact number of steps to cover dataset once\n",
        "    save_steps = total_steps // num_checkpoints, # Save 10 checkpoints during training\n",
        "    max_grad_norm = 0.1,\n",
        "    report_to = \"none\", # Can use Weights & Biases\n",
        "    output_dir = os.path.join(os.path.expanduser('~'), '.cache/huggingface', checkpoint_repo),\n",
        "    save_strategy = \"steps\",\n",
        "    hub_model_id = checkpoint_repo,\n",
        "    push_to_hub = True,\n",
        ")"
      ]
    },
    {
      "cell_type": "markdown",
      "metadata": {
        "id": "r9Mv8UZO5hz-"
      },
      "source": [
        "And let's run the trainer! If you scroll up, you'll see a table of rewards. The goal is to see the `reward` column increase!\n",
        "\n",
        "You might have to wait 150 to 200 steps for any action. You'll probably get 0 reward for the first 100 steps. Please be patient!\n",
        "\n",
        "| Step | Training Loss | reward    | reward_std | completion_length | kl       |\n",
        "|------|---------------|-----------|------------|-------------------|----------|\n",
        "| 1    | 0.000000      | 0.125000  | 0.000000   | 200.000000        | 0.000000 |\n",
        "| 2    | 0.000000      | 0.072375  | 0.248112   | 200.000000        | 0.000000 |\n",
        "| 3    | 0.000000      | -0.079000 | 0.163776   | 182.500000        | 0.000005 |\n"
      ]
    },
    {
      "cell_type": "code",
      "execution_count": 8,
      "metadata": {
        "colab": {
          "background_save": true
        },
        "id": "vzOuSVCL_GA9"
      },
      "outputs": [
        {
          "name": "stderr",
          "output_type": "stream",
          "text": [
            "==((====))==  Unsloth - 2x faster free finetuning | Num GPUs = 1\n",
            "   \\\\   /|    Num examples = 25,117 | Num Epochs = 1\n",
            "O^O/ \\_/ \\    Batch size per device = 2 | Gradient Accumulation steps = 4\n",
            "\\        /    Total batch size = 8 | Total steps = 20\n",
            " \"-____-\"     Number of trainable parameters = 119,734,272\n",
            "sh: 0: getcwd() failed: No such file or directory\n"
          ]
        },
        {
          "ename": "FileNotFoundError",
          "evalue": "[Errno 2] No such file or directory: 'grpo_trainer_lora_model'",
          "output_type": "error",
          "traceback": [
            "\u001b[0;31m---------------------------------------------------------------------------\u001b[0m",
            "\u001b[0;31mFileNotFoundError\u001b[0m                         Traceback (most recent call last)",
            "Cell \u001b[0;32mIn[8], line 11\u001b[0m\n\u001b[1;32m      1\u001b[0m trainer \u001b[38;5;241m=\u001b[39m GRPOTrainer(\n\u001b[1;32m      2\u001b[0m     model \u001b[38;5;241m=\u001b[39m model,\n\u001b[1;32m      3\u001b[0m     processing_class \u001b[38;5;241m=\u001b[39m tokenizer,\n\u001b[0;32m   (...)\u001b[0m\n\u001b[1;32m      9\u001b[0m     eval_dataset \u001b[38;5;241m=\u001b[39m test_dataset,\n\u001b[1;32m     10\u001b[0m )\n\u001b[0;32m---> 11\u001b[0m \u001b[43mtrainer\u001b[49m\u001b[38;5;241;43m.\u001b[39;49m\u001b[43mtrain\u001b[49m\u001b[43m(\u001b[49m\u001b[43m)\u001b[49m\n",
            "File \u001b[0;32m/workspace/venv/lib/python3.11/site-packages/transformers/trainer.py:2162\u001b[0m, in \u001b[0;36mTrainer.train\u001b[0;34m(self, resume_from_checkpoint, trial, ignore_keys_for_eval, **kwargs)\u001b[0m\n\u001b[1;32m   2159\u001b[0m \u001b[38;5;28;01mtry\u001b[39;00m:\n\u001b[1;32m   2160\u001b[0m     \u001b[38;5;66;03m# Disable progress bars when uploading models during checkpoints to avoid polluting stdout\u001b[39;00m\n\u001b[1;32m   2161\u001b[0m     hf_hub_utils\u001b[38;5;241m.\u001b[39mdisable_progress_bars()\n\u001b[0;32m-> 2162\u001b[0m     \u001b[38;5;28;01mreturn\u001b[39;00m \u001b[43minner_training_loop\u001b[49m\u001b[43m(\u001b[49m\n\u001b[1;32m   2163\u001b[0m \u001b[43m        \u001b[49m\u001b[43margs\u001b[49m\u001b[38;5;241;43m=\u001b[39;49m\u001b[43margs\u001b[49m\u001b[43m,\u001b[49m\n\u001b[1;32m   2164\u001b[0m \u001b[43m        \u001b[49m\u001b[43mresume_from_checkpoint\u001b[49m\u001b[38;5;241;43m=\u001b[39;49m\u001b[43mresume_from_checkpoint\u001b[49m\u001b[43m,\u001b[49m\n\u001b[1;32m   2165\u001b[0m \u001b[43m        \u001b[49m\u001b[43mtrial\u001b[49m\u001b[38;5;241;43m=\u001b[39;49m\u001b[43mtrial\u001b[49m\u001b[43m,\u001b[49m\n\u001b[1;32m   2166\u001b[0m \u001b[43m        \u001b[49m\u001b[43mignore_keys_for_eval\u001b[49m\u001b[38;5;241;43m=\u001b[39;49m\u001b[43mignore_keys_for_eval\u001b[49m\u001b[43m,\u001b[49m\n\u001b[1;32m   2167\u001b[0m \u001b[43m    \u001b[49m\u001b[43m)\u001b[49m\n\u001b[1;32m   2168\u001b[0m \u001b[38;5;28;01mfinally\u001b[39;00m:\n\u001b[1;32m   2169\u001b[0m     hf_hub_utils\u001b[38;5;241m.\u001b[39menable_progress_bars()\n",
            "File \u001b[0;32m<string>:382\u001b[0m, in \u001b[0;36m_fast_inner_training_loop\u001b[0;34m(self, batch_size, args, resume_from_checkpoint, trial, ignore_keys_for_eval)\u001b[0m\n",
            "File \u001b[0;32m<string>:25\u001b[0m, in \u001b[0;36m_unsloth_training_step\u001b[0;34m(self, model, inputs, num_items_in_batch)\u001b[0m\n",
            "File \u001b[0;32m/workspace/qwen_2_5_3B_GRPO_medical_thinking/unsloth_compiled_cache/GRPOTrainer.py:323\u001b[0m, in \u001b[0;36m_prepare_inputs\u001b[0;34m(self, inputs)\u001b[0m\n",
            "File \u001b[0;32m/workspace/venv/lib/python3.11/site-packages/torch/utils/_contextlib.py:116\u001b[0m, in \u001b[0;36mcontext_decorator.<locals>.decorate_context\u001b[0;34m(*args, **kwargs)\u001b[0m\n\u001b[1;32m    113\u001b[0m \u001b[38;5;129m@functools\u001b[39m\u001b[38;5;241m.\u001b[39mwraps(func)\n\u001b[1;32m    114\u001b[0m \u001b[38;5;28;01mdef\u001b[39;00m\u001b[38;5;250m \u001b[39m\u001b[38;5;21mdecorate_context\u001b[39m(\u001b[38;5;241m*\u001b[39margs, \u001b[38;5;241m*\u001b[39m\u001b[38;5;241m*\u001b[39mkwargs):\n\u001b[1;32m    115\u001b[0m     \u001b[38;5;28;01mwith\u001b[39;00m ctx_factory():\n\u001b[0;32m--> 116\u001b[0m         \u001b[38;5;28;01mreturn\u001b[39;00m \u001b[43mfunc\u001b[49m\u001b[43m(\u001b[49m\u001b[38;5;241;43m*\u001b[39;49m\u001b[43margs\u001b[49m\u001b[43m,\u001b[49m\u001b[43m \u001b[49m\u001b[38;5;241;43m*\u001b[39;49m\u001b[38;5;241;43m*\u001b[39;49m\u001b[43mkwargs\u001b[49m\u001b[43m)\u001b[49m\n",
            "File \u001b[0;32m/workspace/venv/lib/python3.11/site-packages/unsloth_zoo/vllm_utils.py:1062\u001b[0m, in \u001b[0;36mload_lora\u001b[0;34m(model, save_directory, load_tensors)\u001b[0m\n\u001b[1;32m   1059\u001b[0m \u001b[38;5;28;01mif\u001b[39;00m \u001b[38;5;129;01mnot\u001b[39;00m os\u001b[38;5;241m.\u001b[39mpath\u001b[38;5;241m.\u001b[39mexists(save_directory) \u001b[38;5;129;01mor\u001b[39;00m LORA_REQUEST_ID \u001b[38;5;241m==\u001b[39m \u001b[38;5;241m0\u001b[39m:\n\u001b[1;32m   1060\u001b[0m     \u001b[38;5;28;01mif\u001b[39;00m load_tensors:\n\u001b[1;32m   1061\u001b[0m         \u001b[38;5;66;03m# We need to save and load the config file once!\u001b[39;00m\n\u001b[0;32m-> 1062\u001b[0m         \u001b[43mmodel\u001b[49m\u001b[38;5;241;43m.\u001b[39;49m\u001b[43mpeft_config\u001b[49m\u001b[43m[\u001b[49m\u001b[38;5;124;43m\"\u001b[39;49m\u001b[38;5;124;43mdefault\u001b[39;49m\u001b[38;5;124;43m\"\u001b[39;49m\u001b[43m]\u001b[49m\u001b[38;5;241;43m.\u001b[39;49m\u001b[43msave_pretrained\u001b[49m\u001b[43m(\u001b[49m\u001b[43msave_directory\u001b[49m\u001b[43m)\u001b[49m\n\u001b[1;32m   1063\u001b[0m     \u001b[38;5;28;01melse\u001b[39;00m:\n\u001b[1;32m   1064\u001b[0m         \u001b[38;5;28;01mraise\u001b[39;00m \u001b[38;5;167;01mOSError\u001b[39;00m(\u001b[38;5;124mf\u001b[39m\u001b[38;5;124m\"\u001b[39m\u001b[38;5;124mUnsloth: LoRA filepath = \u001b[39m\u001b[38;5;132;01m{\u001b[39;00msave_directory\u001b[38;5;132;01m}\u001b[39;00m\u001b[38;5;124m does not exist!\u001b[39m\u001b[38;5;124m\"\u001b[39m)\n",
            "File \u001b[0;32m/workspace/venv/lib/python3.11/site-packages/peft/config.py:91\u001b[0m, in \u001b[0;36mPeftConfigMixin.save_pretrained\u001b[0;34m(self, save_directory, **kwargs)\u001b[0m\n\u001b[1;32m     88\u001b[0m \u001b[38;5;28;01mif\u001b[39;00m os\u001b[38;5;241m.\u001b[39mpath\u001b[38;5;241m.\u001b[39misfile(save_directory):\n\u001b[1;32m     89\u001b[0m     \u001b[38;5;28;01mraise\u001b[39;00m \u001b[38;5;167;01mAssertionError\u001b[39;00m(\u001b[38;5;124mf\u001b[39m\u001b[38;5;124m\"\u001b[39m\u001b[38;5;124mProvided path (\u001b[39m\u001b[38;5;132;01m{\u001b[39;00msave_directory\u001b[38;5;132;01m}\u001b[39;00m\u001b[38;5;124m) should be a directory, not a file\u001b[39m\u001b[38;5;124m\"\u001b[39m)\n\u001b[0;32m---> 91\u001b[0m \u001b[43mos\u001b[49m\u001b[38;5;241;43m.\u001b[39;49m\u001b[43mmakedirs\u001b[49m\u001b[43m(\u001b[49m\u001b[43msave_directory\u001b[49m\u001b[43m,\u001b[49m\u001b[43m \u001b[49m\u001b[43mexist_ok\u001b[49m\u001b[38;5;241;43m=\u001b[39;49m\u001b[38;5;28;43;01mTrue\u001b[39;49;00m\u001b[43m)\u001b[49m\n\u001b[1;32m     92\u001b[0m auto_mapping_dict \u001b[38;5;241m=\u001b[39m kwargs\u001b[38;5;241m.\u001b[39mpop(\u001b[38;5;124m\"\u001b[39m\u001b[38;5;124mauto_mapping_dict\u001b[39m\u001b[38;5;124m\"\u001b[39m, \u001b[38;5;28;01mNone\u001b[39;00m)\n\u001b[1;32m     94\u001b[0m output_dict \u001b[38;5;241m=\u001b[39m \u001b[38;5;28mself\u001b[39m\u001b[38;5;241m.\u001b[39mto_dict()\n",
            "File \u001b[0;32m<frozen os>:225\u001b[0m, in \u001b[0;36mmakedirs\u001b[0;34m(name, mode, exist_ok)\u001b[0m\n",
            "\u001b[0;31mFileNotFoundError\u001b[0m: [Errno 2] No such file or directory: 'grpo_trainer_lora_model'"
          ]
        }
      ],
      "source": [
        "trainer = GRPOTrainer(\n",
        "    model = model,\n",
        "    processing_class = tokenizer,\n",
        "    reward_funcs = [\n",
        "        combined_reward_func,\n",
        "    ],\n",
        "    args = training_args,\n",
        "    train_dataset = train_dataset,\n",
        "    eval_dataset = test_dataset,\n",
        ")\n",
        "trainer.train()"
      ]
    },
    {
      "cell_type": "markdown",
      "metadata": {
        "id": "CwpbwnDBVRLg"
      },
      "source": [
        "Now we load the LoRA and test:"
      ]
    },
    {
      "cell_type": "code",
      "execution_count": null,
      "metadata": {
        "colab": {
          "background_save": true
        },
        "id": "jwsfUJs8AAxs"
      },
      "outputs": [],
      "source": [
        "# Load the first test sample\n",
        "first_test_sample = eval_dataset[0]  # Access the first sample\n",
        "\n",
        "# Format the input prompt\n",
        "text = tokenizer.apply_chat_template(\n",
        "    first_test_sample['prompt'],\n",
        "    tokenize=False,\n",
        "    add_generation_prompt=True\n",
        ")\n",
        "\n",
        "from vllm import SamplingParams\n",
        "\n",
        "sampling_params = SamplingParams(\n",
        "    temperature=0.2,\n",
        "    top_p=0.95,\n",
        "    max_tokens=1024,\n",
        ")\n",
        "\n",
        "# Generate the output\n",
        "output = model.fast_generate(\n",
        "    text,\n",
        "    sampling_params=sampling_params,\n",
        "    lora_request=model.load_lora(\"grpo_saved_lora\"),\n",
        ")[0].outputs[0].text\n",
        "\n",
        "# If you want to display the user question and the reference answer,\n",
        "# extract the user question from the prompt (assuming it’s at index 1)\n",
        "user_question = first_test_sample['prompt'][1]['content']\n",
        "\n",
        "print(\"\\n===== User Question (Ground Truth) =====\")\n",
        "print(user_question)  # Prints the user question\n",
        "\n",
        "print(\"\\n===== Reference Answer (Ground Truth) =====\")\n",
        "print(first_test_sample['answer'])  # Prints the correct reference answer\n",
        "\n",
        "print(\"\\n===== Model Output (Generated Response) =====\")\n",
        "print(output)  # Prints the model's generated response"
      ]
    },
    {
      "cell_type": "markdown",
      "metadata": {
        "id": "6aDgFfhFYIAS"
      },
      "source": [
        "Our reasoning model is much better - it's not always correct, since we only trained it for an hour or so - it'll be better if we extend the sequence length and train for longer!"
      ]
    },
    {
      "cell_type": "markdown",
      "metadata": {
        "id": "-NUEmHFSYNTp"
      },
      "source": [
        "<a name=\"Save\"></a>\n",
        "### Saving to float16 for VLLM\n",
        "\n",
        "We also support saving to `float16` directly. Select `merged_16bit` for float16 or `merged_4bit` for int4. We also allow `lora` adapters as a fallback. Use `push_to_hub_merged` to upload to your Hugging Face account! You can go to https://huggingface.co/settings/tokens for your personal tokens."
      ]
    },
    {
      "cell_type": "code",
      "execution_count": null,
      "metadata": {},
      "outputs": [],
      "source": [
        "import os\n",
        "\n",
        "user_name = \"matthewchung74\"\n",
        "model_name = \"Qwen2.5_3B-GRPO-medical-reasoning\"\n",
        "\n",
        "if True:\n",
        "    model.push_to_hub_merged(f\"{user_name}/{model_name}\", tokenizer, save_method=\"lora\", token=os.environ[\"HF_TOKEN\"])"
      ]
    },
    {
      "cell_type": "markdown",
      "metadata": {
        "id": "H9iUggHqALLb"
      },
      "source": [
        "## 📊 Model Evaluation on Medical QA Dataset\n",
        "\n",
        "### 🔹 Overview\n",
        "This code evaluates the performance of a language model on the **Medical-O1-Reasoning-SFT** dataset by generating responses to test questions and comparing them against ground-truth answers using standard NLP evaluation metrics.\n",
        "\n",
        "### 🔹 How It Works\n",
        "1. **Loads the test dataset**: Retrieves question-answer pairs for evaluation.\n",
        "2. **Generates responses using the model**: The model is prompted with test questions formatted using a predefined chat template.\n",
        "3. **Computes evaluation metrics**:\n",
        "   - **ROUGE Score**: Measures overlap between generated and reference text.\n",
        "   - **BLEU Score**: Measures n-gram similarity between model output and reference.\n",
        "   - **BERTScore**: Uses deep learning embeddings to assess semantic similarity.\n",
        "4. **Aggregates and displays evaluation results**.\n",
        "\n",
        "### 🔹 Evaluation Metrics\n",
        "| Metric      | Description |\n",
        "|-------------|-------------|\n",
        "| **ROUGE**   | Measures overlap between reference and generated text using recall-based F1 scores. Good for summarization tasks. |\n",
        "| **BLEU**    | Compares n-grams (word sequences) between generated and reference text, focusing on precision. Good for translation tasks. |\n",
        "| **BERTScore** | Uses transformer embeddings to compare semantic meaning rather than exact word overlap. More robust for open-ended generation. |\n",
        "\n",
        "### 🔹 Expected Output\n",
        "After running the code, you will see three scores:\n",
        "- **ROUGE Scores** (ROUGE-1, ROUGE-2, ROUGE-L)\n",
        "- **BLEU Score** (ranges from 0 to 1; higher is better)\n",
        "- **BERTScore F1** (semantic similarity; typically between 0.5 - 1.0)\n",
        "\n",
        "### 🔹 How to Interpret Results\n",
        "- **Higher scores** indicate better alignment between model predictions and ground-truth answers.\n",
        "- If **ROUGE and BLEU are low**, the model may struggle with **word overlap**.\n",
        "- If **BERTScore is high but ROUGE is low**, the model may be **paraphrasing well but not matching exact words**.\n",
        "\n",
        "### 🔹 Next Steps\n",
        "- **If performance is poor**, consider:\n",
        "  - Improving **prompt design** to get better model responses.\n",
        "  - **Fine-tuning the model** on more relevant medical datasets.\n",
        "  - Adjusting **sampling parameters** (e.g., `temperature`, `top_p`) for more diverse or deterministic responses.\n",
        "\n",
        "---\n"
      ]
    },
    {
      "cell_type": "markdown",
      "metadata": {
        "id": "nYSNBnX7w58d"
      },
      "source": [
        "Manually Clear VRAM"
      ]
    },
    {
      "cell_type": "code",
      "execution_count": null,
      "metadata": {
        "colab": {
          "background_save": true
        },
        "id": "KWccPdA8OC96"
      },
      "outputs": [],
      "source": [
        "import gc\n",
        "import torch\n",
        "torch.cuda.empty_cache()\n",
        "gc.collect()\n",
        "torch.cuda.empty_cache()"
      ]
    },
    {
      "cell_type": "code",
      "execution_count": null,
      "metadata": {
        "colab": {
          "background_save": true
        },
        "id": "paB4YPPkOC2q"
      },
      "outputs": [],
      "source": [
        "from unsloth import FastLanguageModel, PatchFastRL\n",
        "PatchFastRL(\"GRPO\", FastLanguageModel)"
      ]
    },
    {
      "cell_type": "code",
      "execution_count": null,
      "metadata": {
        "colab": {
          "background_save": true
        },
        "id": "ksP1ST1YOFNk"
      },
      "outputs": [],
      "source": [
        "# Inference code\n",
        "from unsloth import FastLanguageModel\n",
        "from vllm import SamplingParams\n",
        "import os\n",
        "\n",
        "max_seq_length = 512\n",
        "\n",
        "base_model_name = \"Qwen/Qwen2.5-3B-Instruct\"\n",
        "user_name = \"matthewchung74\"\n",
        "model_name = \"Qwen2.5_3B-GRPO-medical-reasoning\"\n",
        "\n",
        "# Load model and tokenizer\n",
        "model, tokenizer = FastLanguageModel.from_pretrained(\n",
        "    model_name=base_model_name,\n",
        "    max_seq_length=max_seq_length,\n",
        "    load_in_4bit=True,\n",
        "    fast_inference=True,\n",
        "    token=os.environ[\"HF_TOKEN\"],\n",
        "    offload_folder=\"./offload\"\n",
        ")\n",
        "\n",
        "# Load LoRA weights\n",
        "lora_request = model.load_lora(f\"{user_name}/{model_name}\")\n",
        "\n",
        "# Prepare model for inference\n",
        "model = FastLanguageModel.for_inference(model)\n",
        "\n",
        "def generate_response(prompt):\n",
        "    input_text = tokenizer.apply_chat_template(\n",
        "        prompt,\n",
        "        tokenize=False,\n",
        "        add_generation_prompt=True\n",
        "    )\n",
        "    \n",
        "    sampling_params = SamplingParams(\n",
        "        temperature=0.2,\n",
        "        top_p=0.95,\n",
        "        max_tokens=512,\n",
        "    )\n",
        "    \n",
        "    output = model.fast_generate(\n",
        "        input_text,\n",
        "        sampling_params=sampling_params,\n",
        "        lora_request=lora_request,\n",
        "    )\n",
        "    return output[0].outputs[0].text.strip()"
      ]
    },
    {
      "cell_type": "code",
      "execution_count": null,
      "metadata": {
        "colab": {
          "background_save": true
        },
        "id": "-EzzCUIvHTtH"
      },
      "outputs": [],
      "source": [
        "# Evaluation code\n",
        "import evaluate\n",
        "from tqdm import tqdm\n",
        "import numpy as np\n",
        "\n",
        "# Initialize metrics\n",
        "rouge_metric = evaluate.load(\"rouge\")\n",
        "bleu_metric = evaluate.load(\"bleu\")\n",
        "bertscore_metric = evaluate.load(\"bertscore\")\n",
        "\n",
        "# Convert to pandas and select samples for evaluation\n",
        "eval_subset = eval_dataset.to_pandas().head(3)  # Using 3 samples for debugging\n",
        "\n",
        "predictions = []\n",
        "references = []\n",
        "\n",
        "# Generate predictions\n",
        "for _, sample in tqdm(eval_subset.iterrows(), total=len(eval_subset), desc=\"Evaluating\"):\n",
        "    prediction = generate_response(sample[\"prompt\"])\n",
        "    predictions.append(prediction)\n",
        "    references.append(sample[\"answer\"].strip())\n",
        "\n",
        "# Calculate metrics\n",
        "rouge_scores = rouge_metric.compute(predictions=predictions, references=references)\n",
        "bertscore_results = bertscore_metric.compute(predictions=predictions, references=references, lang=\"en\")\n",
        "bleu_score = bleu_metric.compute(\n",
        "    predictions=predictions,\n",
        "    references=[[ref] for ref in references]\n",
        ")\n",
        "\n",
        "# Calculate average BERTScore F1\n",
        "bertscore_f1 = np.mean(bertscore_results[\"f1\"])\n",
        "\n",
        "print(\"\\n--- Evaluation Results ---\")\n",
        "print(f\"ROUGE Scores: {rouge_scores}\")\n",
        "print(f\"BLEU Score: {bleu_score['bleu']}\")\n",
        "print(f\"BERTScore F1: {bertscore_f1:.4f}\")\n"
      ]
    },
    {
      "cell_type": "code",
      "execution_count": null,
      "metadata": {},
      "outputs": [],
      "source": []
    },
    {
      "cell_type": "code",
      "execution_count": null,
      "metadata": {},
      "outputs": [],
      "source": []
    }
  ],
  "metadata": {
    "accelerator": "GPU",
    "colab": {
      "gpuType": "T4",
      "provenance": []
    },
    "kernelspec": {
      "display_name": "venv",
      "language": "python",
      "name": "python3"
    },
    "language_info": {
      "codemirror_mode": {
        "name": "ipython",
        "version": 3
      },
      "file_extension": ".py",
      "mimetype": "text/x-python",
      "name": "python",
      "nbconvert_exporter": "python",
      "pygments_lexer": "ipython3",
      "version": "3.11.10"
    },
    "widgets": {
      "application/vnd.jupyter.widget-state+json": {
        "122fef8cb5fc4514ad2b7a37f8ea6b6c": {
          "model_module": "@jupyter-widgets/base",
          "model_module_version": "1.2.0",
          "model_name": "LayoutModel",
          "state": {
            "_model_module": "@jupyter-widgets/base",
            "_model_module_version": "1.2.0",
            "_model_name": "LayoutModel",
            "_view_count": null,
            "_view_module": "@jupyter-widgets/base",
            "_view_module_version": "1.2.0",
            "_view_name": "LayoutView",
            "align_content": null,
            "align_items": null,
            "align_self": null,
            "border": null,
            "bottom": null,
            "display": null,
            "flex": null,
            "flex_flow": null,
            "grid_area": null,
            "grid_auto_columns": null,
            "grid_auto_flow": null,
            "grid_auto_rows": null,
            "grid_column": null,
            "grid_gap": null,
            "grid_row": null,
            "grid_template_areas": null,
            "grid_template_columns": null,
            "grid_template_rows": null,
            "height": null,
            "justify_content": null,
            "justify_items": null,
            "left": null,
            "margin": null,
            "max_height": null,
            "max_width": null,
            "min_height": null,
            "min_width": null,
            "object_fit": null,
            "object_position": null,
            "order": null,
            "overflow": null,
            "overflow_x": null,
            "overflow_y": null,
            "padding": null,
            "right": null,
            "top": null,
            "visibility": null,
            "width": null
          }
        },
        "2c7e0b5aabeb4412b33a1accaa6f9399": {
          "model_module": "@jupyter-widgets/base",
          "model_module_version": "1.2.0",
          "model_name": "LayoutModel",
          "state": {
            "_model_module": "@jupyter-widgets/base",
            "_model_module_version": "1.2.0",
            "_model_name": "LayoutModel",
            "_view_count": null,
            "_view_module": "@jupyter-widgets/base",
            "_view_module_version": "1.2.0",
            "_view_name": "LayoutView",
            "align_content": null,
            "align_items": null,
            "align_self": null,
            "border": null,
            "bottom": null,
            "display": null,
            "flex": null,
            "flex_flow": null,
            "grid_area": null,
            "grid_auto_columns": null,
            "grid_auto_flow": null,
            "grid_auto_rows": null,
            "grid_column": null,
            "grid_gap": null,
            "grid_row": null,
            "grid_template_areas": null,
            "grid_template_columns": null,
            "grid_template_rows": null,
            "height": null,
            "justify_content": null,
            "justify_items": null,
            "left": null,
            "margin": null,
            "max_height": null,
            "max_width": null,
            "min_height": null,
            "min_width": null,
            "object_fit": null,
            "object_position": null,
            "order": null,
            "overflow": null,
            "overflow_x": null,
            "overflow_y": null,
            "padding": null,
            "right": null,
            "top": null,
            "visibility": null,
            "width": null
          }
        },
        "6278b93361fc47b3aac04b80e80d9449": {
          "model_module": "@jupyter-widgets/controls",
          "model_module_version": "1.5.0",
          "model_name": "HBoxModel",
          "state": {
            "_dom_classes": [],
            "_model_module": "@jupyter-widgets/controls",
            "_model_module_version": "1.5.0",
            "_model_name": "HBoxModel",
            "_view_count": null,
            "_view_module": "@jupyter-widgets/controls",
            "_view_module_version": "1.5.0",
            "_view_name": "HBoxView",
            "box_style": "",
            "children": [
              "IPY_MODEL_7d1316f9699f45d0979ff44e39d259d2",
              "IPY_MODEL_da1f301823a54449bf98555acb1f0dad",
              "IPY_MODEL_81af3f5fc73641b8a42a9575a75e8f97"
            ],
            "layout": "IPY_MODEL_9f660a0639a94305a6bf9ae2b72fd6fc"
          }
        },
        "71a30fdfb73f4736a587faa8f0e762c5": {
          "model_module": "@jupyter-widgets/controls",
          "model_module_version": "1.5.0",
          "model_name": "ProgressStyleModel",
          "state": {
            "_model_module": "@jupyter-widgets/controls",
            "_model_module_version": "1.5.0",
            "_model_name": "ProgressStyleModel",
            "_view_count": null,
            "_view_module": "@jupyter-widgets/base",
            "_view_module_version": "1.2.0",
            "_view_name": "StyleView",
            "bar_color": null,
            "description_width": ""
          }
        },
        "77e2743957d641ffaea4dd43718cde5a": {
          "model_module": "@jupyter-widgets/controls",
          "model_module_version": "1.5.0",
          "model_name": "HTMLModel",
          "state": {
            "_dom_classes": [],
            "_model_module": "@jupyter-widgets/controls",
            "_model_module_version": "1.5.0",
            "_model_name": "HTMLModel",
            "_view_count": null,
            "_view_module": "@jupyter-widgets/controls",
            "_view_module_version": "1.5.0",
            "_view_name": "HTMLView",
            "description": "",
            "description_tooltip": null,
            "layout": "IPY_MODEL_baceb4f769594907970ce32ed4333ba2",
            "placeholder": "​",
            "style": "IPY_MODEL_a3b01c93ec324c679bbd605388fc096f",
            "value": "Loading safetensors checkpoint shards: 100% Completed | 1/1 [00:01&lt;00:00,  1.02s/it]\n"
          }
        },
        "7d1316f9699f45d0979ff44e39d259d2": {
          "model_module": "@jupyter-widgets/controls",
          "model_module_version": "1.5.0",
          "model_name": "HTMLModel",
          "state": {
            "_dom_classes": [],
            "_model_module": "@jupyter-widgets/controls",
            "_model_module_version": "1.5.0",
            "_model_name": "HTMLModel",
            "_view_count": null,
            "_view_module": "@jupyter-widgets/controls",
            "_view_module_version": "1.5.0",
            "_view_name": "HTMLView",
            "description": "",
            "description_tooltip": null,
            "layout": "IPY_MODEL_86b4c85c6339499db56c88f6841e76ec",
            "placeholder": "​",
            "style": "IPY_MODEL_b67e6e2608d24b249321fd25cac9a7d6",
            "value": ""
          }
        },
        "81af3f5fc73641b8a42a9575a75e8f97": {
          "model_module": "@jupyter-widgets/controls",
          "model_module_version": "1.5.0",
          "model_name": "HTMLModel",
          "state": {
            "_dom_classes": [],
            "_model_module": "@jupyter-widgets/controls",
            "_model_module_version": "1.5.0",
            "_model_name": "HTMLModel",
            "_view_count": null,
            "_view_module": "@jupyter-widgets/controls",
            "_view_module_version": "1.5.0",
            "_view_name": "HTMLView",
            "description": "",
            "description_tooltip": null,
            "layout": "IPY_MODEL_87e72a336913497aaa7fbe4366572ed0",
            "placeholder": "​",
            "style": "IPY_MODEL_f9485957a3484a5bb809ba8f54788e0c",
            "value": "Loading safetensors checkpoint shards: 100% Completed | 1/1 [00:02&lt;00:00,  2.19s/it]\n"
          }
        },
        "86b4c85c6339499db56c88f6841e76ec": {
          "model_module": "@jupyter-widgets/base",
          "model_module_version": "1.2.0",
          "model_name": "LayoutModel",
          "state": {
            "_model_module": "@jupyter-widgets/base",
            "_model_module_version": "1.2.0",
            "_model_name": "LayoutModel",
            "_view_count": null,
            "_view_module": "@jupyter-widgets/base",
            "_view_module_version": "1.2.0",
            "_view_name": "LayoutView",
            "align_content": null,
            "align_items": null,
            "align_self": null,
            "border": null,
            "bottom": null,
            "display": null,
            "flex": null,
            "flex_flow": null,
            "grid_area": null,
            "grid_auto_columns": null,
            "grid_auto_flow": null,
            "grid_auto_rows": null,
            "grid_column": null,
            "grid_gap": null,
            "grid_row": null,
            "grid_template_areas": null,
            "grid_template_columns": null,
            "grid_template_rows": null,
            "height": null,
            "justify_content": null,
            "justify_items": null,
            "left": null,
            "margin": null,
            "max_height": null,
            "max_width": null,
            "min_height": null,
            "min_width": null,
            "object_fit": null,
            "object_position": null,
            "order": null,
            "overflow": null,
            "overflow_x": null,
            "overflow_y": null,
            "padding": null,
            "right": null,
            "top": null,
            "visibility": null,
            "width": null
          }
        },
        "87e72a336913497aaa7fbe4366572ed0": {
          "model_module": "@jupyter-widgets/base",
          "model_module_version": "1.2.0",
          "model_name": "LayoutModel",
          "state": {
            "_model_module": "@jupyter-widgets/base",
            "_model_module_version": "1.2.0",
            "_model_name": "LayoutModel",
            "_view_count": null,
            "_view_module": "@jupyter-widgets/base",
            "_view_module_version": "1.2.0",
            "_view_name": "LayoutView",
            "align_content": null,
            "align_items": null,
            "align_self": null,
            "border": null,
            "bottom": null,
            "display": null,
            "flex": null,
            "flex_flow": null,
            "grid_area": null,
            "grid_auto_columns": null,
            "grid_auto_flow": null,
            "grid_auto_rows": null,
            "grid_column": null,
            "grid_gap": null,
            "grid_row": null,
            "grid_template_areas": null,
            "grid_template_columns": null,
            "grid_template_rows": null,
            "height": null,
            "justify_content": null,
            "justify_items": null,
            "left": null,
            "margin": null,
            "max_height": null,
            "max_width": null,
            "min_height": null,
            "min_width": null,
            "object_fit": null,
            "object_position": null,
            "order": null,
            "overflow": null,
            "overflow_x": null,
            "overflow_y": null,
            "padding": null,
            "right": null,
            "top": null,
            "visibility": null,
            "width": null
          }
        },
        "978a16a9d3694478971acba3f30bb6df": {
          "model_module": "@jupyter-widgets/controls",
          "model_module_version": "1.5.0",
          "model_name": "HTMLModel",
          "state": {
            "_dom_classes": [],
            "_model_module": "@jupyter-widgets/controls",
            "_model_module_version": "1.5.0",
            "_model_name": "HTMLModel",
            "_view_count": null,
            "_view_module": "@jupyter-widgets/controls",
            "_view_module_version": "1.5.0",
            "_view_name": "HTMLView",
            "description": "",
            "description_tooltip": null,
            "layout": "IPY_MODEL_2c7e0b5aabeb4412b33a1accaa6f9399",
            "placeholder": "​",
            "style": "IPY_MODEL_b5729576e678474cb0127191c1f9c126",
            "value": ""
          }
        },
        "9f660a0639a94305a6bf9ae2b72fd6fc": {
          "model_module": "@jupyter-widgets/base",
          "model_module_version": "1.2.0",
          "model_name": "LayoutModel",
          "state": {
            "_model_module": "@jupyter-widgets/base",
            "_model_module_version": "1.2.0",
            "_model_name": "LayoutModel",
            "_view_count": null,
            "_view_module": "@jupyter-widgets/base",
            "_view_module_version": "1.2.0",
            "_view_name": "LayoutView",
            "align_content": null,
            "align_items": null,
            "align_self": null,
            "border": null,
            "bottom": null,
            "display": null,
            "flex": null,
            "flex_flow": null,
            "grid_area": null,
            "grid_auto_columns": null,
            "grid_auto_flow": null,
            "grid_auto_rows": null,
            "grid_column": null,
            "grid_gap": null,
            "grid_row": null,
            "grid_template_areas": null,
            "grid_template_columns": null,
            "grid_template_rows": null,
            "height": null,
            "justify_content": null,
            "justify_items": null,
            "left": null,
            "margin": null,
            "max_height": null,
            "max_width": null,
            "min_height": null,
            "min_width": null,
            "object_fit": null,
            "object_position": null,
            "order": null,
            "overflow": null,
            "overflow_x": null,
            "overflow_y": null,
            "padding": null,
            "right": null,
            "top": null,
            "visibility": null,
            "width": null
          }
        },
        "a3b01c93ec324c679bbd605388fc096f": {
          "model_module": "@jupyter-widgets/controls",
          "model_module_version": "1.5.0",
          "model_name": "DescriptionStyleModel",
          "state": {
            "_model_module": "@jupyter-widgets/controls",
            "_model_module_version": "1.5.0",
            "_model_name": "DescriptionStyleModel",
            "_view_count": null,
            "_view_module": "@jupyter-widgets/base",
            "_view_module_version": "1.2.0",
            "_view_name": "StyleView",
            "description_width": ""
          }
        },
        "b5729576e678474cb0127191c1f9c126": {
          "model_module": "@jupyter-widgets/controls",
          "model_module_version": "1.5.0",
          "model_name": "DescriptionStyleModel",
          "state": {
            "_model_module": "@jupyter-widgets/controls",
            "_model_module_version": "1.5.0",
            "_model_name": "DescriptionStyleModel",
            "_view_count": null,
            "_view_module": "@jupyter-widgets/base",
            "_view_module_version": "1.2.0",
            "_view_name": "StyleView",
            "description_width": ""
          }
        },
        "b67e6e2608d24b249321fd25cac9a7d6": {
          "model_module": "@jupyter-widgets/controls",
          "model_module_version": "1.5.0",
          "model_name": "DescriptionStyleModel",
          "state": {
            "_model_module": "@jupyter-widgets/controls",
            "_model_module_version": "1.5.0",
            "_model_name": "DescriptionStyleModel",
            "_view_count": null,
            "_view_module": "@jupyter-widgets/base",
            "_view_module_version": "1.2.0",
            "_view_name": "StyleView",
            "description_width": ""
          }
        },
        "baceb4f769594907970ce32ed4333ba2": {
          "model_module": "@jupyter-widgets/base",
          "model_module_version": "1.2.0",
          "model_name": "LayoutModel",
          "state": {
            "_model_module": "@jupyter-widgets/base",
            "_model_module_version": "1.2.0",
            "_model_name": "LayoutModel",
            "_view_count": null,
            "_view_module": "@jupyter-widgets/base",
            "_view_module_version": "1.2.0",
            "_view_name": "LayoutView",
            "align_content": null,
            "align_items": null,
            "align_self": null,
            "border": null,
            "bottom": null,
            "display": null,
            "flex": null,
            "flex_flow": null,
            "grid_area": null,
            "grid_auto_columns": null,
            "grid_auto_flow": null,
            "grid_auto_rows": null,
            "grid_column": null,
            "grid_gap": null,
            "grid_row": null,
            "grid_template_areas": null,
            "grid_template_columns": null,
            "grid_template_rows": null,
            "height": null,
            "justify_content": null,
            "justify_items": null,
            "left": null,
            "margin": null,
            "max_height": null,
            "max_width": null,
            "min_height": null,
            "min_width": null,
            "object_fit": null,
            "object_position": null,
            "order": null,
            "overflow": null,
            "overflow_x": null,
            "overflow_y": null,
            "padding": null,
            "right": null,
            "top": null,
            "visibility": null,
            "width": null
          }
        },
        "cc80596be8654d49b31a8a9481bd6845": {
          "model_module": "@jupyter-widgets/controls",
          "model_module_version": "1.5.0",
          "model_name": "FloatProgressModel",
          "state": {
            "_dom_classes": [],
            "_model_module": "@jupyter-widgets/controls",
            "_model_module_version": "1.5.0",
            "_model_name": "FloatProgressModel",
            "_view_count": null,
            "_view_module": "@jupyter-widgets/controls",
            "_view_module_version": "1.5.0",
            "_view_name": "ProgressView",
            "bar_style": "success",
            "description": "",
            "description_tooltip": null,
            "layout": "IPY_MODEL_122fef8cb5fc4514ad2b7a37f8ea6b6c",
            "max": 1,
            "min": 0,
            "orientation": "horizontal",
            "style": "IPY_MODEL_71a30fdfb73f4736a587faa8f0e762c5",
            "value": 1
          }
        },
        "cdc69a73b42b4918a2bd741147bafae0": {
          "model_module": "@jupyter-widgets/controls",
          "model_module_version": "1.5.0",
          "model_name": "HBoxModel",
          "state": {
            "_dom_classes": [],
            "_model_module": "@jupyter-widgets/controls",
            "_model_module_version": "1.5.0",
            "_model_name": "HBoxModel",
            "_view_count": null,
            "_view_module": "@jupyter-widgets/controls",
            "_view_module_version": "1.5.0",
            "_view_name": "HBoxView",
            "box_style": "",
            "children": [
              "IPY_MODEL_978a16a9d3694478971acba3f30bb6df",
              "IPY_MODEL_cc80596be8654d49b31a8a9481bd6845",
              "IPY_MODEL_77e2743957d641ffaea4dd43718cde5a"
            ],
            "layout": "IPY_MODEL_f96bc9801e2943f5a4c53eb51358e0bd"
          }
        },
        "da1f301823a54449bf98555acb1f0dad": {
          "model_module": "@jupyter-widgets/controls",
          "model_module_version": "1.5.0",
          "model_name": "FloatProgressModel",
          "state": {
            "_dom_classes": [],
            "_model_module": "@jupyter-widgets/controls",
            "_model_module_version": "1.5.0",
            "_model_name": "FloatProgressModel",
            "_view_count": null,
            "_view_module": "@jupyter-widgets/controls",
            "_view_module_version": "1.5.0",
            "_view_name": "ProgressView",
            "bar_style": "success",
            "description": "",
            "description_tooltip": null,
            "layout": "IPY_MODEL_f17506105b1e4bf4a98bcac58fce7f2a",
            "max": 1,
            "min": 0,
            "orientation": "horizontal",
            "style": "IPY_MODEL_f90d7886c67a470895721f117ef99d28",
            "value": 1
          }
        },
        "f17506105b1e4bf4a98bcac58fce7f2a": {
          "model_module": "@jupyter-widgets/base",
          "model_module_version": "1.2.0",
          "model_name": "LayoutModel",
          "state": {
            "_model_module": "@jupyter-widgets/base",
            "_model_module_version": "1.2.0",
            "_model_name": "LayoutModel",
            "_view_count": null,
            "_view_module": "@jupyter-widgets/base",
            "_view_module_version": "1.2.0",
            "_view_name": "LayoutView",
            "align_content": null,
            "align_items": null,
            "align_self": null,
            "border": null,
            "bottom": null,
            "display": null,
            "flex": null,
            "flex_flow": null,
            "grid_area": null,
            "grid_auto_columns": null,
            "grid_auto_flow": null,
            "grid_auto_rows": null,
            "grid_column": null,
            "grid_gap": null,
            "grid_row": null,
            "grid_template_areas": null,
            "grid_template_columns": null,
            "grid_template_rows": null,
            "height": null,
            "justify_content": null,
            "justify_items": null,
            "left": null,
            "margin": null,
            "max_height": null,
            "max_width": null,
            "min_height": null,
            "min_width": null,
            "object_fit": null,
            "object_position": null,
            "order": null,
            "overflow": null,
            "overflow_x": null,
            "overflow_y": null,
            "padding": null,
            "right": null,
            "top": null,
            "visibility": null,
            "width": null
          }
        },
        "f90d7886c67a470895721f117ef99d28": {
          "model_module": "@jupyter-widgets/controls",
          "model_module_version": "1.5.0",
          "model_name": "ProgressStyleModel",
          "state": {
            "_model_module": "@jupyter-widgets/controls",
            "_model_module_version": "1.5.0",
            "_model_name": "ProgressStyleModel",
            "_view_count": null,
            "_view_module": "@jupyter-widgets/base",
            "_view_module_version": "1.2.0",
            "_view_name": "StyleView",
            "bar_color": null,
            "description_width": ""
          }
        },
        "f9485957a3484a5bb809ba8f54788e0c": {
          "model_module": "@jupyter-widgets/controls",
          "model_module_version": "1.5.0",
          "model_name": "DescriptionStyleModel",
          "state": {
            "_model_module": "@jupyter-widgets/controls",
            "_model_module_version": "1.5.0",
            "_model_name": "DescriptionStyleModel",
            "_view_count": null,
            "_view_module": "@jupyter-widgets/base",
            "_view_module_version": "1.2.0",
            "_view_name": "StyleView",
            "description_width": ""
          }
        },
        "f96bc9801e2943f5a4c53eb51358e0bd": {
          "model_module": "@jupyter-widgets/base",
          "model_module_version": "1.2.0",
          "model_name": "LayoutModel",
          "state": {
            "_model_module": "@jupyter-widgets/base",
            "_model_module_version": "1.2.0",
            "_model_name": "LayoutModel",
            "_view_count": null,
            "_view_module": "@jupyter-widgets/base",
            "_view_module_version": "1.2.0",
            "_view_name": "LayoutView",
            "align_content": null,
            "align_items": null,
            "align_self": null,
            "border": null,
            "bottom": null,
            "display": null,
            "flex": null,
            "flex_flow": null,
            "grid_area": null,
            "grid_auto_columns": null,
            "grid_auto_flow": null,
            "grid_auto_rows": null,
            "grid_column": null,
            "grid_gap": null,
            "grid_row": null,
            "grid_template_areas": null,
            "grid_template_columns": null,
            "grid_template_rows": null,
            "height": null,
            "justify_content": null,
            "justify_items": null,
            "left": null,
            "margin": null,
            "max_height": null,
            "max_width": null,
            "min_height": null,
            "min_width": null,
            "object_fit": null,
            "object_position": null,
            "order": null,
            "overflow": null,
            "overflow_x": null,
            "overflow_y": null,
            "padding": null,
            "right": null,
            "top": null,
            "visibility": null,
            "width": null
          }
        }
      }
    }
  },
  "nbformat": 4,
  "nbformat_minor": 0
}
